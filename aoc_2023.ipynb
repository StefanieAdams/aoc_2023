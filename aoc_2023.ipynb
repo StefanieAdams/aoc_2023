{
 "cells": [
  {
   "cell_type": "code",
   "execution_count": 1,
   "id": "058fb0bb",
   "metadata": {},
   "outputs": [],
   "source": [
    "import numpy as np"
   ]
  },
  {
   "cell_type": "markdown",
   "id": "7f1a1768",
   "metadata": {},
   "source": [
    "# Day 1"
   ]
  },
  {
   "cell_type": "code",
   "execution_count": 2,
   "id": "8eecb3b2",
   "metadata": {},
   "outputs": [],
   "source": [
    "data01 = np.loadtxt('input01.txt', dtype='str')"
   ]
  },
  {
   "cell_type": "code",
   "execution_count": 3,
   "id": "4ac408bb",
   "metadata": {},
   "outputs": [
    {
     "name": "stdout",
     "output_type": "stream",
     "text": [
      "Solution Day 1 Part 1:  54927\n"
     ]
    }
   ],
   "source": [
    "sum = 0\n",
    "for line in data01:\n",
    "    digits = []\n",
    "    for char in line:\n",
    "        if char.isdigit():\n",
    "            digits.append(char)         \n",
    "    sum += int(digits[0]+digits[-1])\n",
    "\n",
    "print('Solution Day 1 Part 1: ', sum)"
   ]
  },
  {
   "cell_type": "code",
   "execution_count": 4,
   "id": "a2b7afa4",
   "metadata": {},
   "outputs": [
    {
     "name": "stdout",
     "output_type": "stream",
     "text": [
      "Solution Day 1 Part 1:  54581\n"
     ]
    }
   ],
   "source": [
    "digit_dict = {\n",
    "    'one' : 1,\n",
    "    'two' : 2,\n",
    "    'three' : 3,\n",
    "    'four' : 4,\n",
    "    'five' : 5,\n",
    "    'six' : 6,\n",
    "    'seven' : 7,\n",
    "    'eight' : 8,\n",
    "    'nine' : 9}\n",
    "\n",
    "sum = 0\n",
    "for line in data01:\n",
    "    for digit in digit_dict:\n",
    "        line= line.replace(digit, digit+str(digit_dict[digit])+digit)\n",
    "    digits = []\n",
    "    for char in line:\n",
    "        if char.isdigit():\n",
    "            digits.append(char)         \n",
    "    sum += int(digits[0]+digits[-1])\n",
    "print('Solution Day 1 Part 1: ', sum)"
   ]
  },
  {
   "cell_type": "markdown",
   "id": "f1bc586f",
   "metadata": {},
   "source": [
    "# Day 2"
   ]
  },
  {
   "cell_type": "code",
   "execution_count": 5,
   "id": "dc377497",
   "metadata": {},
   "outputs": [],
   "source": [
    "data02 = np.loadtxt('input02.txt', dtype='str', delimiter=':').T\n",
    "#data02 = np.loadtxt('input02_test.txt', dtype='str', delimiter=':').T"
   ]
  },
  {
   "cell_type": "code",
   "execution_count": 6,
   "id": "05dee826",
   "metadata": {},
   "outputs": [
    {
     "name": "stdout",
     "output_type": "stream",
     "text": [
      "Solution Day 2 Part 1:  2348\n",
      "Solution Day 2 Part 2:  76008\n"
     ]
    }
   ],
   "source": [
    "green_max= 13\n",
    "red_max = 12\n",
    "blue_max = 14\n",
    "\n",
    "\n",
    "blue_lst = []\n",
    "red_lst = []\n",
    "green_lst = []\n",
    "\n",
    "good_games = 0\n",
    "overall_power = 0\n",
    "\n",
    "for game_id, game in enumerate(data02[1]):\n",
    "    \n",
    "    blue = 0\n",
    "    red = 0\n",
    "    green = 0\n",
    "    \n",
    "    set_lst = game.split(';')\n",
    "    \n",
    "    for game_set in set_lst:\n",
    "        draws = game_set.split(',')\n",
    "        \n",
    "        for draw in draws:\n",
    "            split_draw = draw.strip().split(' ')\n",
    "            color = split_draw[1]\n",
    "            no = int(split_draw[0])\n",
    "            \n",
    "            if color == 'blue' and blue < no:\n",
    "                blue = no\n",
    "            elif color == 'red' and red < no:\n",
    "                red = no\n",
    "            elif color == 'green' and green < no:\n",
    "                green = no\n",
    "    \n",
    "    #print('green = ', green, ', blue = ', blue, ' red = ', red)\n",
    "    power = green*blue*red\n",
    "    \n",
    "    overall_power += power\n",
    "    \n",
    "    if green <= green_max and red <= red_max and blue <= blue_max:\n",
    "        #print('Good Game', game_id)\n",
    "        good_games += game_id+1\n",
    "    \n",
    "print('Solution Day 2 Part 1: ', good_games)\n",
    "print('Solution Day 2 Part 2: ', overall_power)"
   ]
  },
  {
   "cell_type": "markdown",
   "id": "4d573ab9",
   "metadata": {},
   "source": [
    "# Day 3"
   ]
  },
  {
   "cell_type": "code",
   "execution_count": 7,
   "id": "cf69d867",
   "metadata": {},
   "outputs": [
    {
     "name": "stdout",
     "output_type": "stream",
     "text": [
      "Solution Day 3 Part 1:  546563\n"
     ]
    }
   ],
   "source": [
    "data03_arr = []\n",
    "with open('input03.txt') as f:\n",
    "    for line in f:\n",
    "        line_lst = []     \n",
    "        for char in line.strip():\n",
    "            if char.isdigit():\n",
    "                line_lst.append(int(char))           \n",
    "            elif char == '.':               \n",
    "                line_lst.append(0)\n",
    "            else:    \n",
    "                line_lst.append(9999)  \n",
    "\n",
    "        data03_arr.append(line_lst)\n",
    "\n",
    "data03_arr = np.asarray(data03_arr).T\n",
    "\n",
    "sum = 0\n",
    "j = 0\n",
    "with open('input03.txt') as f:\n",
    "    for line in f:\n",
    "        number_flag = False\n",
    "        number = ''\n",
    "        part_flag = False\n",
    "        \n",
    "        for i, char in enumerate(line):\n",
    "            if char.isdigit():\n",
    "                number += char \n",
    "                number_flag = True\n",
    "    \n",
    "                try:\n",
    "                    if data03_arr[i,j-1]== 9999 or data03_arr[i+1,j-1]== 9999 or data03_arr[i-1,j-1]  == 9999:\n",
    "                        part_flag = True\n",
    "                    if data03_arr[i,j+1] == 9999 or data03_arr[i+1,j+1]== 9999 or data03_arr[i-1,j+1]  == 9999:\n",
    "                        part_flag = True\n",
    "                    if data03_arr[i+1,j] == 9999 or data03_arr[i-1,j]== 9999:\n",
    "                        part_flag = True\n",
    "                except:\n",
    "                    pass\n",
    "            else:\n",
    "                if number_flag is True:\n",
    "                    if part_flag is True:\n",
    "                        sum += int(number)\n",
    "                        part_flag = False\n",
    "                        \n",
    "                    number_flag = False\n",
    "                    number = ''\n",
    "                    \n",
    "        j += 1\n",
    "\n",
    "print('Solution Day 3 Part 1: ', sum)"
   ]
  },
  {
   "cell_type": "code",
   "execution_count": 64,
   "id": "beeb10e9",
   "metadata": {},
   "outputs": [
    {
     "name": "stdout",
     "output_type": "stream",
     "text": [
      "Solution Day 3 Part 2:  91031374\n"
     ]
    }
   ],
   "source": [
    "# Rewriting array in terms of integers and the full numbers\n",
    "data03_arr = []\n",
    "with open('input03.txt') as f:\n",
    "    for line in f:\n",
    "        line_lst = []   \n",
    "        number_flag = False\n",
    "        number = ''\n",
    "        line_idx = []\n",
    "\n",
    "        for i, char in enumerate(line.strip()):\n",
    "            if char.isdigit():\n",
    "                number += char \n",
    "                number_flag = True\n",
    "                line_lst.append('digit')     \n",
    "                line_idx.append(i)\n",
    "                \n",
    "            elif char == '.':               \n",
    "                line_lst.append(int(0))\n",
    "                if number_flag == True:\n",
    "                    number_flag = False\n",
    "                    for idx in line_idx:\n",
    "                        line_lst[idx] = int(number)\n",
    "                    number = ''\n",
    "                    line_idx = []\n",
    "                \n",
    "            elif char == '*':\n",
    "                line_lst.append(-1)\n",
    "                if number_flag == True:\n",
    "                    number_flag = False\n",
    "                    for idx in line_idx:\n",
    "                        line_lst[idx] = int(number)\n",
    "                    number = ''\n",
    "                    line_idx = []\n",
    "            else:    \n",
    "                line_lst.append(0)  \n",
    "                if number_flag == True:\n",
    "                    number_flag = False\n",
    "                    for idx in line_idx:\n",
    "                        line_lst[idx] = int(number)\n",
    "                    number = ''\n",
    "                    line_idx = []\n",
    "            \n",
    "            # this if statement was not necessary for the test input to work and I was close to giving up...\n",
    "            if i == len(line.strip())-1:\n",
    "                if number_flag == True:\n",
    "                    number_flag = False\n",
    "                    for idx in line_idx:\n",
    "                        line_lst[idx] = int(number)\n",
    "                    number = ''\n",
    "                    line_idx = []\n",
    "\n",
    "        data03_arr.append(line_lst)\n",
    "\n",
    "data03_arr = np.asarray(data03_arr)\n",
    "\n",
    "# Finding the gears with adj. numbers to calculate ratio (pretty ugly solution...)\n",
    "sum = 0\n",
    "for i in range(np.shape(data03_arr)[0]):\n",
    "    for j in range(np.shape(data03_arr)[1]):\n",
    "        if data03_arr[i,j] < 0:\n",
    "\n",
    "            gear_count = 0\n",
    "            ratio = 1\n",
    "            adj_no_top_lst = []\n",
    "            adj_no_bot_lst = []\n",
    "            \n",
    "            try:\n",
    "                if data03_arr[i,j-1]>0 and j!=0:\n",
    "                    gear_count += 1 \n",
    "                    ratio *=data03_arr[i,j-1]\n",
    "                \n",
    "                if data03_arr[i,j+1] >0:\n",
    "                    gear_count += 1 \n",
    "                    ratio *=data03_arr[i,j+1]\n",
    "                        \n",
    "                if data03_arr[i+1,j-1]>0 and j!= 0:\n",
    "                    if data03_arr[i+1,j-1] not in adj_no_bot_lst:\n",
    "                        gear_count += 1\n",
    "                        ratio *=data03_arr[i+1,j-1]\n",
    "                        adj_no_bot_lst.append(data03_arr[i+1,j-1])\n",
    "                        \n",
    "                if data03_arr[i-1,j-1]  >0 and j!=0 and i!=0:\n",
    "                    if data03_arr[i-1,j-1] not in adj_no_top_lst:\n",
    "                        gear_count += 1\n",
    "                        ratio *=data03_arr[i-1,j-1]\n",
    "                        adj_no_top_lst.append(data03_arr[i-1,j-1])\n",
    "                                   \n",
    "                if data03_arr[i+1,j+1]>0:\n",
    "                    if data03_arr[i+1,j+1] not in adj_no_bot_lst:\n",
    "                        gear_count += 1\n",
    "                        ratio *=data03_arr[i+1,j+1]\n",
    "                        adj_no_bot_lst.append(data03_arr[i+1,j+1])\n",
    "                        \n",
    "                if data03_arr[i-1,j+1]  >0 and i!=0:\n",
    "                    if data03_arr[i-1,j+1] not in adj_no_top_lst:\n",
    "                        gear_count += 1 \n",
    "                        ratio *=data03_arr[i-1,j+1]\n",
    "                        adj_no_top_lst.append(data03_arr[i-1,j+1])\n",
    "                        \n",
    "                if data03_arr[i+1,j] > 0:\n",
    "                    if data03_arr[i+1,j] not in adj_no_bot_lst:\n",
    "                        gear_count += 1 \n",
    "                        ratio *=data03_arr[i+1,j]\n",
    "                        adj_no_bot_lst.append(data03_arr[i+1,j])\n",
    "                        \n",
    "                if data03_arr[i-1,j]>0 and i!=0:\n",
    "                    if data03_arr[i-1,j] not in adj_no_top_lst:\n",
    "                        gear_count += 1\n",
    "                        ratio *=data03_arr[i-1,j]\n",
    "                        adj_no_top_lst.append(data03_arr[i-1,j])\n",
    "                  \n",
    "            except:\n",
    "                pass\n",
    "            \n",
    "            if gear_count == 2:\n",
    "                sum += ratio\n",
    "                         \n",
    "print('Solution Day 3 Part 2: ', sum)"
   ]
  },
  {
   "cell_type": "markdown",
   "id": "2a89c66a",
   "metadata": {},
   "source": [
    "# Day 4"
   ]
  },
  {
   "cell_type": "code",
   "execution_count": 109,
   "id": "ff7f3284",
   "metadata": {},
   "outputs": [
    {
     "name": "stdout",
     "output_type": "stream",
     "text": [
      "Solution Day 4 Part 1:  24706\n",
      "Solution Day 4 Part 1:  13114317\n"
     ]
    }
   ],
   "source": [
    "matches = 0\n",
    "matching_numbers = []\n",
    "matching_scores = []\n",
    "\n",
    "with open('input04.txt') as f:\n",
    "    for line in f:\n",
    "        \n",
    "        winning_numbers = ' '.join(line.split(':')[1].split('|')[0].strip().split(' ')).split()\n",
    "        winning_numbers = [int(i) for i in winning_numbers]\n",
    "        \n",
    "        card_numbers = ' '.join(line.split(':')[1].split('|')[1].strip().split(' ')).split()\n",
    "        card_numbers = [int(i) for i in card_numbers]\n",
    "        \n",
    "        match_count = len(set(winning_numbers) & set(card_numbers))\n",
    "        matching_numbers.append(match_count)\n",
    "        \n",
    "        if match_count > 0:\n",
    "            matches += 2**(match_count-1)\n",
    "            matching_scores.append(2**(match_count-1))\n",
    "        else:\n",
    "            matching_scores.append(0)\n",
    "            \n",
    "print('Solution Day 4 Part 1: ', matches)\n",
    "\n",
    "card_count = np.ones(len(matching_numbers), dtype=int)\n",
    "\n",
    "for idx, matches in enumerate(matching_numbers):\n",
    "    for ncards in range(card_count[idx]):\n",
    "        for n in range(1, matches+1):\n",
    "            card_count[idx+n] += 1\n",
    "\n",
    "card_sum = np.sum(card_count)\n",
    "\n",
    "print('Solution Day 4 Part 2: ', card_sum)"
   ]
  },
  {
   "cell_type": "markdown",
   "id": "05f35243",
   "metadata": {},
   "source": [
    "# Day 5"
   ]
  },
  {
   "cell_type": "code",
   "execution_count": 25,
   "id": "42f58520",
   "metadata": {},
   "outputs": [
    {
     "name": "stdout",
     "output_type": "stream",
     "text": [
      "Solution Day 5 Part 1:  3374647\n"
     ]
    }
   ],
   "source": [
    "with open('input05.txt') as f:\n",
    "    data = f.readlines()\n",
    "\n",
    "seed_to_soil = []\n",
    "soil_to_fertilizer = []\n",
    "fertilizer_to_water = []\n",
    "water_to_light = []\n",
    "light_to_temperature = []\n",
    "temperature_to_humidity = []\n",
    "humidity_to_location = []\n",
    "\n",
    "maps = [seed_to_soil, soil_to_fertilizer, fertilizer_to_water, \n",
    "        water_to_light, light_to_temperature, temperature_to_humidity,\n",
    "        humidity_to_location]\n",
    "\n",
    "counter = -1\n",
    "for i, line in enumerate(data):\n",
    "    line.strip()\n",
    "    if i == 0:\n",
    "        seeds = [int(x) for x in line.split(':')[1].strip().split(' ')]\n",
    "    \n",
    "    elif line.strip() == '':\n",
    "        counter += 1\n",
    "        \n",
    "    elif 'map' in line:\n",
    "        pass\n",
    "    \n",
    "    else:\n",
    "        maps[counter].append([int(x) for x in line.strip().split(' ')])\n",
    "\n",
    "for conv_map in maps:       \n",
    "    for idx, seed in enumerate(seeds):\n",
    "        for conv_range in conv_map:\n",
    "            if seed in range(conv_range[1], conv_range[1]+conv_range[2]):\n",
    "                seeds[idx] = conv_range[0] + seed - conv_range[1]\n",
    "\n",
    "print('Solution Day 5 Part 1: ',min(seeds))\n"
   ]
  },
  {
   "cell_type": "code",
   "execution_count": 4,
   "id": "0dbc4cff",
   "metadata": {},
   "outputs": [
    {
     "ename": "MemoryError",
     "evalue": "",
     "output_type": "error",
     "traceback": [
      "\u001b[1;31m---------------------------------------------------------------------------\u001b[0m",
      "\u001b[1;31mMemoryError\u001b[0m                               Traceback (most recent call last)",
      "\u001b[1;32m~\\AppData\\Local\\Temp\\ipykernel_10524\\3711291927.py\u001b[0m in \u001b[0;36m<module>\u001b[1;34m\u001b[0m\n\u001b[0;32m     20\u001b[0m         \u001b[0mseeds_line\u001b[0m \u001b[1;33m=\u001b[0m \u001b[1;33m[\u001b[0m\u001b[0mint\u001b[0m\u001b[1;33m(\u001b[0m\u001b[0mx\u001b[0m\u001b[1;33m)\u001b[0m \u001b[1;32mfor\u001b[0m \u001b[0mx\u001b[0m \u001b[1;32min\u001b[0m \u001b[0mline\u001b[0m\u001b[1;33m.\u001b[0m\u001b[0msplit\u001b[0m\u001b[1;33m(\u001b[0m\u001b[1;34m':'\u001b[0m\u001b[1;33m)\u001b[0m\u001b[1;33m[\u001b[0m\u001b[1;36m1\u001b[0m\u001b[1;33m]\u001b[0m\u001b[1;33m.\u001b[0m\u001b[0mstrip\u001b[0m\u001b[1;33m(\u001b[0m\u001b[1;33m)\u001b[0m\u001b[1;33m.\u001b[0m\u001b[0msplit\u001b[0m\u001b[1;33m(\u001b[0m\u001b[1;34m' '\u001b[0m\u001b[1;33m)\u001b[0m\u001b[1;33m]\u001b[0m\u001b[1;33m\u001b[0m\u001b[1;33m\u001b[0m\u001b[0m\n\u001b[0;32m     21\u001b[0m         \u001b[1;32mfor\u001b[0m \u001b[0mk\u001b[0m \u001b[1;32min\u001b[0m \u001b[0mrange\u001b[0m\u001b[1;33m(\u001b[0m\u001b[1;36m0\u001b[0m\u001b[1;33m,\u001b[0m \u001b[0mlen\u001b[0m\u001b[1;33m(\u001b[0m\u001b[0mseeds_line\u001b[0m\u001b[1;33m)\u001b[0m\u001b[1;33m,\u001b[0m \u001b[1;36m2\u001b[0m\u001b[1;33m)\u001b[0m\u001b[1;33m:\u001b[0m\u001b[1;33m\u001b[0m\u001b[1;33m\u001b[0m\u001b[0m\n\u001b[1;32m---> 22\u001b[1;33m             \u001b[0mseeds\u001b[0m\u001b[1;33m.\u001b[0m\u001b[0mextend\u001b[0m\u001b[1;33m(\u001b[0m\u001b[1;33m[\u001b[0m\u001b[1;33m*\u001b[0m\u001b[0mrange\u001b[0m\u001b[1;33m(\u001b[0m\u001b[0mseeds_line\u001b[0m\u001b[1;33m[\u001b[0m\u001b[0mk\u001b[0m\u001b[1;33m]\u001b[0m\u001b[1;33m,\u001b[0m \u001b[0mseeds_line\u001b[0m\u001b[1;33m[\u001b[0m\u001b[0mk\u001b[0m\u001b[1;33m]\u001b[0m\u001b[1;33m+\u001b[0m\u001b[0mseeds_line\u001b[0m\u001b[1;33m[\u001b[0m\u001b[0mk\u001b[0m\u001b[1;33m+\u001b[0m\u001b[1;36m1\u001b[0m\u001b[1;33m]\u001b[0m\u001b[1;33m)\u001b[0m\u001b[1;33m]\u001b[0m\u001b[1;33m)\u001b[0m\u001b[1;33m\u001b[0m\u001b[1;33m\u001b[0m\u001b[0m\n\u001b[0m\u001b[0;32m     23\u001b[0m \u001b[1;33m\u001b[0m\u001b[0m\n\u001b[0;32m     24\u001b[0m \u001b[0mprint\u001b[0m\u001b[1;33m(\u001b[0m\u001b[0mseeds\u001b[0m\u001b[1;33m)\u001b[0m\u001b[1;33m\u001b[0m\u001b[1;33m\u001b[0m\u001b[0m\n",
      "\u001b[1;31mMemoryError\u001b[0m: "
     ]
    }
   ],
   "source": [
    "with open('input05.txt') as f:\n",
    "    data = f.readlines()\n",
    "\n",
    "seeds = []\n",
    "seed_to_soil = []\n",
    "soil_to_fertilizer = []\n",
    "fertilizer_to_water = []\n",
    "water_to_light = []\n",
    "light_to_temperature = []\n",
    "temperature_to_humidity = []\n",
    "humidity_to_location = []\n",
    "\n",
    "maps = [seed_to_soil, soil_to_fertilizer, fertilizer_to_water, \n",
    "        water_to_light, light_to_temperature, temperature_to_humidity,\n",
    "        humidity_to_location]\n",
    "\n",
    "for i, line in enumerate(data):\n",
    "    line.strip()\n",
    "    if i == 0:\n",
    "        seeds_line = [int(x) for x in line.split(':')[1].strip().split(' ')]\n",
    "        for k in range(0, len(seeds_line), 2):\n",
    "            seeds.extend([*range(seeds_line[k], seeds_line[k]+seeds_line[k+1])])\n",
    "    \n",
    "print(seeds)\n",
    "    \n",
    "counter = -1\n",
    "for i, line in enumerate(data):\n",
    "    line.strip()\n",
    "    if i == 0:\n",
    "        pass\n",
    "    \n",
    "    elif line.strip() == '':\n",
    "        counter += 1\n",
    "        \n",
    "    elif 'map' in line:\n",
    "        pass\n",
    "    \n",
    "    else:\n",
    "        maps[counter].append([int(x) for x in line.strip().split(' ')])\n",
    "\n",
    "for conv_map in maps:       \n",
    "    for idx, seed in enumerate(seeds):\n",
    "        for conv_range in conv_map:\n",
    "            if seed in range(conv_range[1], conv_range[1]+conv_range[2]):\n",
    "                seeds[idx] = conv_range[0] + seed - conv_range[1]\n",
    "\n",
    "print('Solution Day 5 Part 2: ',min(seeds))"
   ]
  },
  {
   "cell_type": "markdown",
   "id": "11522b3e",
   "metadata": {},
   "source": [
    "# Day 6"
   ]
  },
  {
   "cell_type": "code",
   "execution_count": 13,
   "id": "eefb9527",
   "metadata": {},
   "outputs": [
    {
     "name": "stdout",
     "output_type": "stream",
     "text": [
      "Solution Day 6 Part 1:  3316275\n"
     ]
    }
   ],
   "source": [
    "# My input\n",
    "time_races = [40, 82, 84, 92]\n",
    "distance_race = [233, 1011, 1110, 1487]\n",
    "\n",
    "Record = 1\n",
    "for i, time_race in enumerate(time_races):\n",
    "    records = 0\n",
    "    for bt_time in range(time_race):\n",
    "        distance = bt_time*(time_race-bt_time)\n",
    "        if distance > distance_race[i]:\n",
    "            records += 1\n",
    "    Record *= records\n",
    "\n",
    "print('Solution Day 6 Part 1: ',Record)"
   ]
  },
  {
   "cell_type": "code",
   "execution_count": 17,
   "id": "79d0a0a6",
   "metadata": {},
   "outputs": [
    {
     "name": "stdout",
     "output_type": "stream",
     "text": [
      "Solution Day 6 Part 2:  27102791\n"
     ]
    }
   ],
   "source": [
    "# Test input\n",
    "time_races = [71530]\n",
    "distance_race = [940200]\n",
    "\n",
    "# My input\n",
    "time_races = [40828492]\n",
    "distance_race = [233101111101487]\n",
    "\n",
    "Record = 1\n",
    "for i, time_race in enumerate(time_races):\n",
    "    records = 0\n",
    "    for bt_time in range(time_race):\n",
    "        distance = bt_time*(time_race-bt_time)\n",
    "        if distance > distance_race[i]:\n",
    "            records += 1\n",
    "    Record *= records\n",
    "\n",
    "print('Solution Day 6 Part 2: ',Record)"
   ]
  },
  {
   "cell_type": "markdown",
   "id": "8df5304d",
   "metadata": {},
   "source": [
    "# Day 7"
   ]
  },
  {
   "cell_type": "code",
   "execution_count": 54,
   "id": "651078d6",
   "metadata": {},
   "outputs": [
    {
     "name": "stdout",
     "output_type": "stream",
     "text": [
      "Solution Day 7 Part 1:  248396258\n"
     ]
    }
   ],
   "source": [
    "from collections import Counter\n",
    "\n",
    "fiveok = []\n",
    "fourok = []\n",
    "fh = []\n",
    "threeok = []\n",
    "tp = []\n",
    "op = []\n",
    "hc = []\n",
    "\n",
    "combined_list = [fiveok, fourok, fh, threeok, tp, op, hc]\n",
    "\n",
    "with open('input07.txt') as f:\n",
    "    for line in f:\n",
    "        \n",
    "        hand = np.asarray(Counter(line.strip().split(' ')[0]).most_common())\n",
    "        if int(hand[0,1]) == 5:\n",
    "            fiveok.append(line)\n",
    "        elif int(hand[0,1]) == 4:\n",
    "            fourok.append(line)\n",
    "        elif int(hand[0,1]) == 3:\n",
    "            if int(hand[1,1]) == 2:\n",
    "                fh.append(line)\n",
    "            else:\n",
    "                threeok.append(line)\n",
    "        elif int(hand[0,1]) == 2:\n",
    "            if int(hand[1,1]) == 2:\n",
    "                tp.append(line)\n",
    "            else:\n",
    "                op.append(line)\n",
    "        else:\n",
    "            hc.append(line)\n",
    "\n",
    "combined_sorted_list =[]\n",
    "ordering = ['A', 'K', 'Q', 'J', 'T', '9', '8', '7', '6', '5', '4', '3', '2']\n",
    "            \n",
    "for sub_list in combined_list[::-1]:\n",
    "    hands = []\n",
    "    bids = []\n",
    "    for hand in sub_list:\n",
    "        hands.append(hand.strip().split(' ')[0])\n",
    "    \n",
    "    priorities = {letter: index for index, letter in enumerate(ordering)}\n",
    "    sorted_sublist = sorted(hands, key=lambda x: tuple(map(lambda y: priorities[y], x)))    \n",
    "    combined_sorted_list += sorted_sublist[::-1] \n",
    "        \n",
    "total_winnings = 0\n",
    "for i, hand in enumerate(combined_sorted_list):\n",
    "    with open('input07.txt') as f:\n",
    "        for line in f:\n",
    "            if hand in line:\n",
    "                total_winnings += (i+1)*int(line.strip().split(' ')[1])\n",
    "\n",
    "print('Solution Day 7 Part 1: ', total_winnings)"
   ]
  },
  {
   "cell_type": "code",
   "execution_count": 90,
   "id": "4476f159",
   "metadata": {},
   "outputs": [
    {
     "name": "stdout",
     "output_type": "stream",
     "text": [
      "['32T3K', 'KK677', 'T55J5', 'QQQJA', 'KTJJT']\n",
      "Solution Day 7 Part 2:  5905\n"
     ]
    }
   ],
   "source": [
    "fiveok = []\n",
    "fourok = []\n",
    "fh = []\n",
    "threeok = []\n",
    "tp = []\n",
    "op = []\n",
    "hc = []\n",
    "\n",
    "combined_list = [fiveok, fourok, fh, threeok, tp, op, hc]\n",
    "\n",
    "with open('input07_test.txt') as f:\n",
    "    for line in f:\n",
    "        \n",
    "        hand = np.asarray(Counter(line.strip().split(' ')[0]).most_common())\n",
    "        j_count = Counter(line.strip().split(' ')[0])['J']\n",
    "        \n",
    "        if int(hand[0,1]) == 5:\n",
    "            fiveok.append(line)\n",
    "            \n",
    "        elif int(hand[0,1]) == 4:\n",
    "            if j_count == 1:\n",
    "                fiveok.append(line)\n",
    "            else:\n",
    "                fourok.append(line)\n",
    "                \n",
    "        elif int(hand[0,1]) == 3:\n",
    "            if int(hand[1,1]) == 2:\n",
    "                if j_count > 1:\n",
    "                    fiveok.append(line)\n",
    "                else:\n",
    "                    fh.append(line)\n",
    "            else:\n",
    "                if j_count == 1:\n",
    "                    fourok.append(line)\n",
    "                else:\n",
    "                    threeok.append(line)\n",
    "                \n",
    "        elif int(hand[0,1]) == 2:\n",
    "            if int(hand[1,1]) == 2:\n",
    "                if j_count == 1:\n",
    "                    fh.append(line)\n",
    "                elif j_count == 2:\n",
    "                    fourok.append(line)\n",
    "                else:\n",
    "                    tp.append(line)\n",
    "            else:\n",
    "                if j_count == 1:\n",
    "                    threeok.append(line)\n",
    "                else:\n",
    "                    op.append(line)\n",
    "        else:\n",
    "            if j_count == 1:\n",
    "                op.append(line)\n",
    "            else:\n",
    "                hc.append(line)\n",
    "                \n",
    "combined_sorted_list =[]\n",
    "ordering = ['A', 'K', 'Q', 'T', '9', '8', '7', '6', '5', '4', '3', '2', 'J']\n",
    "            \n",
    "for sub_list in combined_list[::-1]:\n",
    "    hands = []\n",
    "    bids = []\n",
    "    for hand in sub_list:\n",
    "        hands.append(hand.strip().split(' ')[0])\n",
    "    \n",
    "    priorities = {letter: index for index, letter in enumerate(ordering)}\n",
    "    sorted_sublist = sorted(hands, key=lambda x: tuple(map(lambda y: priorities[y], x)))    \n",
    "    combined_sorted_list += sorted_sublist[::-1] \n",
    "    \n",
    "print(combined_sorted_list)\n",
    "        \n",
    "total_winnings = 0\n",
    "for i, hand in enumerate(combined_sorted_list):\n",
    "    with open('input07_test.txt') as f:\n",
    "        for line in f:\n",
    "            if hand in line:\n",
    "                total_winnings += (i+1)*int(line.strip().split(' ')[1])\n",
    "\n",
    "print('Solution Day 7 Part 2: ', total_winnings)"
   ]
  },
  {
   "cell_type": "markdown",
   "id": "840fb8aa",
   "metadata": {},
   "source": [
    "# Day 8"
   ]
  },
  {
   "cell_type": "code",
   "execution_count": 111,
   "id": "e2a09ae8",
   "metadata": {},
   "outputs": [
    {
     "name": "stdout",
     "output_type": "stream",
     "text": [
      "Solution Day 8 Part 1:  20221\n"
     ]
    }
   ],
   "source": [
    "pos_lst = []\n",
    "left_lst = []\n",
    "right_lst = []\n",
    "\n",
    "with open('input08.txt') as f:\n",
    "    for i, line in enumerate(f):\n",
    "        if i == 0:\n",
    "            directions = line.strip()\n",
    "        elif i == 1:\n",
    "            pass\n",
    "        else:\n",
    "            pos_lst.append(line.split('=')[0].strip())\n",
    "            left_lst.append(line.split('=')[1].split('(')[1].split(')')[0].split(',')[0].strip())\n",
    "            right_lst.append(line.split('=')[1].split('(')[1].split(')')[0].split(',')[1].strip())\n",
    "\n",
    "flag = False\n",
    "pos_idx = pos_lst.index('AAA')\n",
    "\n",
    "i = 0\n",
    "while flag == False:\n",
    "    for dir_item in directions:\n",
    "        i += 1\n",
    "        if dir_item == 'L':\n",
    "            pos_name = left_lst[pos_idx]\n",
    "        elif dir_item == 'R':\n",
    "            pos_name = right_lst[pos_idx]\n",
    "\n",
    "        if pos_name == 'ZZZ':\n",
    "            flag = True\n",
    "            break\n",
    "\n",
    "        pos_idx = pos_lst.index(pos_name)\n",
    "\n",
    "print('Solution Day 8 Part 1: ', i)"
   ]
  },
  {
   "cell_type": "code",
   "execution_count": null,
   "id": "503ab283",
   "metadata": {},
   "outputs": [],
   "source": []
  },
  {
   "cell_type": "code",
   "execution_count": null,
   "id": "0daa3dce",
   "metadata": {},
   "outputs": [],
   "source": []
  },
  {
   "cell_type": "markdown",
   "id": "e6cfe88c",
   "metadata": {},
   "source": [
    "# Day 21"
   ]
  },
  {
   "cell_type": "code",
   "execution_count": 5,
   "id": "3884804f",
   "metadata": {},
   "outputs": [
    {
     "name": "stdout",
     "output_type": "stream",
     "text": [
      "Solution Day 21 Part 1:  3748\n"
     ]
    }
   ],
   "source": [
    "row_count = 0\n",
    "with open('input21.txt') as f:\n",
    "    for line in f:\n",
    "        row_len = len(line.strip())\n",
    "        row_count += 1\n",
    "\n",
    "active_pos =[]\n",
    "garden = np.empty((int(row_count), int(row_len)), dtype='str')\n",
    "with open('input21.txt') as f:\n",
    "    for i, line in enumerate(f):\n",
    "        for j, char in enumerate(line.strip()):\n",
    "            garden[i,j] = char\n",
    "            if char == 'S':\n",
    "                active_pos.append([i,j])\n",
    "                garden[i,j] = '.'\n",
    "    \n",
    "for step in range(64):\n",
    "    new_active_pos = []\n",
    "    for pos in active_pos:\n",
    "        try:\n",
    "            if garden[pos[0], pos[1]+1] == \".\":\n",
    "                new_active_pos.append([pos[0], pos[1]+1])\n",
    "            if garden[pos[0], pos[1]-1] == \".\":\n",
    "                new_active_pos.append([pos[0], pos[1]-1])\n",
    "            if garden[pos[0]+1, pos[1]] == \".\":\n",
    "                new_active_pos.append([pos[0]+1, pos[1]])\n",
    "            if garden[pos[0]-1, pos[1]] == \".\":\n",
    "                new_active_pos.append([pos[0]-1, pos[1]])\n",
    "        except:\n",
    "            print('out of bounds')\n",
    "    active_pos = [list(x) for x in set(tuple(x) for x in new_active_pos)]\n",
    "    #print('Step: ', step, ', No. active pos: ', len(active_pos))\n",
    "\n",
    "print('Solution Day 21 Part 1: ', len(active_pos))"
   ]
  },
  {
   "cell_type": "code",
   "execution_count": null,
   "id": "32d9ef02",
   "metadata": {},
   "outputs": [],
   "source": []
  }
 ],
 "metadata": {
  "kernelspec": {
   "display_name": "Python 3 (ipykernel)",
   "language": "python",
   "name": "python3"
  },
  "language_info": {
   "codemirror_mode": {
    "name": "ipython",
    "version": 3
   },
   "file_extension": ".py",
   "mimetype": "text/x-python",
   "name": "python",
   "nbconvert_exporter": "python",
   "pygments_lexer": "ipython3",
   "version": "3.9.12"
  }
 },
 "nbformat": 4,
 "nbformat_minor": 5
}
