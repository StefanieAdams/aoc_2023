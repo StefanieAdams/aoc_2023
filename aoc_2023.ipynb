{
 "cells": [
  {
   "cell_type": "code",
   "execution_count": 1,
   "id": "058fb0bb",
   "metadata": {},
   "outputs": [],
   "source": [
    "import numpy as np"
   ]
  },
  {
   "cell_type": "markdown",
   "id": "7f1a1768",
   "metadata": {},
   "source": [
    "# Day 1"
   ]
  },
  {
   "cell_type": "code",
   "execution_count": 2,
   "id": "8eecb3b2",
   "metadata": {},
   "outputs": [],
   "source": [
    "data01 = np.loadtxt('input01.txt', dtype='str')"
   ]
  },
  {
   "cell_type": "code",
   "execution_count": 3,
   "id": "4ac408bb",
   "metadata": {},
   "outputs": [
    {
     "name": "stdout",
     "output_type": "stream",
     "text": [
      "Solution Day 1 Part 1:  54927\n"
     ]
    }
   ],
   "source": [
    "sum = 0\n",
    "for line in data01:\n",
    "    digits = []\n",
    "    for char in line:\n",
    "        if char.isdigit():\n",
    "            digits.append(char)         \n",
    "    sum += int(digits[0]+digits[-1])\n",
    "\n",
    "print('Solution Day 1 Part 1: ', sum)"
   ]
  },
  {
   "cell_type": "code",
   "execution_count": 4,
   "id": "a2b7afa4",
   "metadata": {},
   "outputs": [
    {
     "name": "stdout",
     "output_type": "stream",
     "text": [
      "Solution Day 1 Part 1:  54581\n"
     ]
    }
   ],
   "source": [
    "digit_dict = {\n",
    "    'one' : 1,\n",
    "    'two' : 2,\n",
    "    'three' : 3,\n",
    "    'four' : 4,\n",
    "    'five' : 5,\n",
    "    'six' : 6,\n",
    "    'seven' : 7,\n",
    "    'eight' : 8,\n",
    "    'nine' : 9}\n",
    "\n",
    "sum = 0\n",
    "for line in data01:\n",
    "    for digit in digit_dict:\n",
    "        line= line.replace(digit, digit+str(digit_dict[digit])+digit)\n",
    "    digits = []\n",
    "    for char in line:\n",
    "        if char.isdigit():\n",
    "            digits.append(char)         \n",
    "    sum += int(digits[0]+digits[-1])\n",
    "print('Solution Day 1 Part 1: ', sum)"
   ]
  },
  {
   "cell_type": "markdown",
   "id": "f1bc586f",
   "metadata": {},
   "source": [
    "# Day 2"
   ]
  },
  {
   "cell_type": "code",
   "execution_count": 5,
   "id": "dc377497",
   "metadata": {},
   "outputs": [],
   "source": [
    "data02 = np.loadtxt('input02.txt', dtype='str', delimiter=':').T\n",
    "#data02 = np.loadtxt('input02_test.txt', dtype='str', delimiter=':').T"
   ]
  },
  {
   "cell_type": "code",
   "execution_count": 6,
   "id": "05dee826",
   "metadata": {},
   "outputs": [
    {
     "name": "stdout",
     "output_type": "stream",
     "text": [
      "Solution Day 2 Part 1:  2348\n",
      "Solution Day 2 Part 2:  76008\n"
     ]
    }
   ],
   "source": [
    "green_max= 13\n",
    "red_max = 12\n",
    "blue_max = 14\n",
    "\n",
    "\n",
    "blue_lst = []\n",
    "red_lst = []\n",
    "green_lst = []\n",
    "\n",
    "good_games = 0\n",
    "overall_power = 0\n",
    "\n",
    "for game_id, game in enumerate(data02[1]):\n",
    "    \n",
    "    blue = 0\n",
    "    red = 0\n",
    "    green = 0\n",
    "    \n",
    "    set_lst = game.split(';')\n",
    "    \n",
    "    for game_set in set_lst:\n",
    "        draws = game_set.split(',')\n",
    "        \n",
    "        for draw in draws:\n",
    "            split_draw = draw.strip().split(' ')\n",
    "            color = split_draw[1]\n",
    "            no = int(split_draw[0])\n",
    "            \n",
    "            if color == 'blue' and blue < no:\n",
    "                blue = no\n",
    "            elif color == 'red' and red < no:\n",
    "                red = no\n",
    "            elif color == 'green' and green < no:\n",
    "                green = no\n",
    "    \n",
    "    #print('green = ', green, ', blue = ', blue, ' red = ', red)\n",
    "    power = green*blue*red\n",
    "    \n",
    "    overall_power += power\n",
    "    \n",
    "    if green <= green_max and red <= red_max and blue <= blue_max:\n",
    "        #print('Good Game', game_id)\n",
    "        good_games += game_id+1\n",
    "    \n",
    "print('Solution Day 2 Part 1: ', good_games)\n",
    "print('Solution Day 2 Part 2: ', overall_power)"
   ]
  },
  {
   "cell_type": "markdown",
   "id": "4d573ab9",
   "metadata": {},
   "source": [
    "# Day 3"
   ]
  },
  {
   "cell_type": "code",
   "execution_count": 7,
   "id": "8928790d",
   "metadata": {},
   "outputs": [
    {
     "name": "stdout",
     "output_type": "stream",
     "text": [
      "Solution Day 3 Part 1:  546563\n"
     ]
    }
   ],
   "source": [
    "data03_arr = []\n",
    "with open('input03.txt') as f:\n",
    "    for line in f:\n",
    "        line_lst = []     \n",
    "        for char in line.strip():\n",
    "            if char.isdigit():\n",
    "                line_lst.append(int(char))           \n",
    "            elif char == '.':               \n",
    "                line_lst.append(0)\n",
    "            else:    \n",
    "                line_lst.append(9999)  \n",
    "\n",
    "        data03_arr.append(line_lst)\n",
    "\n",
    "data03_arr = np.asarray(data03_arr).T\n",
    "\n",
    "sum = 0\n",
    "j = 0\n",
    "with open('input03.txt') as f:\n",
    "    for line in f:\n",
    "        number_flag = False\n",
    "        number = ''\n",
    "        part_flag = False\n",
    "        \n",
    "        for i, char in enumerate(line):\n",
    "            if char.isdigit():\n",
    "                number += char \n",
    "                number_flag = True\n",
    "    \n",
    "                try:\n",
    "                    if data03_arr[i,j-1]== 9999 or data03_arr[i+1,j-1]== 9999 or data03_arr[i-1,j-1]  == 9999:\n",
    "                        part_flag = True\n",
    "                    if data03_arr[i,j+1] == 9999 or data03_arr[i+1,j+1]== 9999 or data03_arr[i-1,j+1]  == 9999:\n",
    "                        part_flag = True\n",
    "                    if data03_arr[i+1,j] == 9999 or data03_arr[i-1,j]== 9999:\n",
    "                        part_flag = True\n",
    "                except:\n",
    "                    pass\n",
    "            else:\n",
    "                if number_flag is True:\n",
    "                    if part_flag is True:\n",
    "                        sum += int(number)\n",
    "                        part_flag = False\n",
    "                        \n",
    "                    number_flag = False\n",
    "                    number = ''\n",
    "                    \n",
    "        j += 1\n",
    "\n",
    "print('Solution Day 3 Part 1: ', sum)"
   ]
  },
  {
   "cell_type": "code",
   "execution_count": 63,
   "id": "1b816807",
   "metadata": {},
   "outputs": [
    {
     "name": "stdout",
     "output_type": "stream",
     "text": [
      "Solution Day 3 Part 2:  91031374\n"
     ]
    }
   ],
   "source": [
    "# Rewriting array in terms of integers and the full numbers\n",
    "data03_arr = []\n",
    "with open('input03.txt') as f:\n",
    "    for line in f:\n",
    "        line_lst = []   \n",
    "        number_flag = False\n",
    "        number = ''\n",
    "        line_idx = []\n",
    "\n",
    "        for i, char in enumerate(line.strip()):\n",
    "            if char.isdigit():\n",
    "                number += char \n",
    "                number_flag = True\n",
    "                line_lst.append('digit')     \n",
    "                line_idx.append(i)\n",
    "                \n",
    "            elif char == '.':               \n",
    "                line_lst.append(int(0))\n",
    "                if number_flag == True:\n",
    "                    number_flag = False\n",
    "                    for idx in line_idx:\n",
    "                        line_lst[idx] = int(number)\n",
    "                    number = ''\n",
    "                    line_idx = []\n",
    "                \n",
    "            elif char == '*':\n",
    "                line_lst.append(-1)\n",
    "                if number_flag == True:\n",
    "                    number_flag = False\n",
    "                    for idx in line_idx:\n",
    "                        line_lst[idx] = int(number)\n",
    "                    number = ''\n",
    "                    line_idx = []\n",
    "            else:    \n",
    "                line_lst.append(0)  \n",
    "                if number_flag == True:\n",
    "                    number_flag = False\n",
    "                    for idx in line_idx:\n",
    "                        line_lst[idx] = int(number)\n",
    "                    number = ''\n",
    "                    line_idx = []\n",
    "            \n",
    "            # this if statement was not necessary for the test input to work and I was close to giving up...\n",
    "            if i == len(line.strip())-1:\n",
    "                if number_flag == True:\n",
    "                    number_flag = False\n",
    "                    for idx in line_idx:\n",
    "                        line_lst[idx] = int(number)\n",
    "                    number = ''\n",
    "                    line_idx = []\n",
    "\n",
    "        data03_arr.append(line_lst)\n",
    "\n",
    "data03_arr = np.asarray(data03_arr)\n",
    "\n",
    "# Finding the gears with adj. numbers to calculate ratio (pretty ugly solution...)\n",
    "sum = 0\n",
    "for i in range(np.shape(data03_arr)[0]):\n",
    "    for j in range(np.shape(data03_arr)[1]):\n",
    "        if data03_arr[i,j] < 0:\n",
    "\n",
    "            gear_count = 0\n",
    "            ratio = 1\n",
    "            adj_no_top_lst = []\n",
    "            adj_no_bot_lst = []\n",
    "            \n",
    "            try:\n",
    "                if data03_arr[i,j-1]>0 and j!=0:\n",
    "                    gear_count += 1 \n",
    "                    ratio *=data03_arr[i,j-1]\n",
    "                \n",
    "                if data03_arr[i,j+1] >0:\n",
    "                    gear_count += 1 \n",
    "                    ratio *=data03_arr[i,j+1]\n",
    "                        \n",
    "                if data03_arr[i+1,j-1]>0 and j!= 0:\n",
    "                    if data03_arr[i+1,j-1] not in adj_no_bot_lst:\n",
    "                        gear_count += 1\n",
    "                        ratio *=data03_arr[i+1,j-1]\n",
    "                        adj_no_bot_lst.append(data03_arr[i+1,j-1])\n",
    "                        \n",
    "                if data03_arr[i-1,j-1]  >0 and j!=0 and i!=0:\n",
    "                    if data03_arr[i-1,j-1] not in adj_no_top_lst:\n",
    "                        gear_count += 1\n",
    "                        ratio *=data03_arr[i-1,j-1]\n",
    "                        adj_no_top_lst.append(data03_arr[i-1,j-1])\n",
    "                                   \n",
    "                if data03_arr[i+1,j+1]>0:\n",
    "                    if data03_arr[i+1,j+1] not in adj_no_bot_lst:\n",
    "                        gear_count += 1\n",
    "                        ratio *=data03_arr[i+1,j+1]\n",
    "                        adj_no_bot_lst.append(data03_arr[i+1,j+1])\n",
    "                        \n",
    "                if data03_arr[i-1,j+1]  >0 and i!=0:\n",
    "                    if data03_arr[i-1,j+1] not in adj_no_top_lst:\n",
    "                        gear_count += 1 \n",
    "                        ratio *=data03_arr[i-1,j+1]\n",
    "                        adj_no_top_lst.append(data03_arr[i-1,j+1])\n",
    "                        \n",
    "                if data03_arr[i+1,j] > 0:\n",
    "                    if data03_arr[i+1,j] not in adj_no_bot_lst:\n",
    "                        gear_count += 1 \n",
    "                        ratio *=data03_arr[i+1,j]\n",
    "                        adj_no_bot_lst.append(data03_arr[i+1,j])\n",
    "                        \n",
    "                if data03_arr[i-1,j]>0 and i!=0:\n",
    "                    if data03_arr[i-1,j] not in adj_no_top_lst:\n",
    "                        gear_count += 1\n",
    "                        ratio *=data03_arr[i-1,j]\n",
    "                        adj_no_top_lst.append(data03_arr[i-1,j])\n",
    "                  \n",
    "            except:\n",
    "                pass\n",
    "            \n",
    "            if gear_count == 2:\n",
    "                sum += ratio\n",
    "                         \n",
    "print('Solution Day 3 Part 2: ', sum)"
   ]
  }
 ],
 "metadata": {
  "kernelspec": {
   "display_name": "Python 3 (ipykernel)",
   "language": "python",
   "name": "python3"
  },
  "language_info": {
   "codemirror_mode": {
    "name": "ipython",
    "version": 3
   },
   "file_extension": ".py",
   "mimetype": "text/x-python",
   "name": "python",
   "nbconvert_exporter": "python",
   "pygments_lexer": "ipython3",
   "version": "3.9.12"
  }
 },
 "nbformat": 4,
 "nbformat_minor": 5
}
