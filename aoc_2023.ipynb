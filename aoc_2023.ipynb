{
 "cells": [
  {
   "cell_type": "code",
   "execution_count": 1,
   "id": "b14f9a31",
   "metadata": {},
   "outputs": [],
   "source": [
    "import numpy as np"
   ]
  },
  {
   "cell_type": "markdown",
   "id": "30e22689",
   "metadata": {},
   "source": [
    "# Day 1"
   ]
  },
  {
   "cell_type": "code",
   "execution_count": 40,
   "id": "87404bdd",
   "metadata": {},
   "outputs": [],
   "source": [
    "data01 = np.loadtxt('input01.txt', dtype='str')"
   ]
  },
  {
   "cell_type": "code",
   "execution_count": 44,
   "id": "23ad8c23",
   "metadata": {},
   "outputs": [
    {
     "name": "stdout",
     "output_type": "stream",
     "text": [
      "Solution Day 1 Part 1:  54927\n"
     ]
    }
   ],
   "source": [
    "sum = 0\n",
    "for line in data01:\n",
    "    digits = []\n",
    "    for char in line:\n",
    "        if char.isdigit():\n",
    "            digits.append(char)         \n",
    "    sum += int(digits[0]+digits[-1])\n",
    "\n",
    "print('Solution Day 1 Part 1: ', sum)"
   ]
  },
  {
   "cell_type": "code",
   "execution_count": 46,
   "id": "f16ca6c8",
   "metadata": {},
   "outputs": [
    {
     "name": "stdout",
     "output_type": "stream",
     "text": [
      "Solution Day 1 Part 1:  54581\n"
     ]
    }
   ],
   "source": [
    "digit_dict = {\n",
    "    'one' : 1,\n",
    "    'two' : 2,\n",
    "    'three' : 3,\n",
    "    'four' : 4,\n",
    "    'five' : 5,\n",
    "    'six' : 6,\n",
    "    'seven' : 7,\n",
    "    'eight' : 8,\n",
    "    'nine' : 9}\n",
    "\n",
    "sum = 0\n",
    "for line in data01:\n",
    "    for digit in digit_dict:\n",
    "        line= line.replace(digit, digit+str(digit_dict[digit])+digit)\n",
    "    digits = []\n",
    "    for char in line:\n",
    "        if char.isdigit():\n",
    "            digits.append(char)         \n",
    "    sum += int(digits[0]+digits[-1])\n",
    "print('Solution Day 1 Part 1: ', sum)"
   ]
  },
  {
   "cell_type": "markdown",
   "id": "fee2e7b8",
   "metadata": {},
   "source": [
    "# Day 2"
   ]
  },
  {
   "cell_type": "code",
   "execution_count": 83,
   "id": "f9089961",
   "metadata": {},
   "outputs": [],
   "source": [
    "data02 = np.loadtxt('input02.txt', dtype='str', delimiter=':').T\n",
    "#data02 = np.loadtxt('input02_test.txt', dtype='str', delimiter=':').T"
   ]
  },
  {
   "cell_type": "code",
   "execution_count": 85,
   "id": "87970067",
   "metadata": {},
   "outputs": [
    {
     "name": "stdout",
     "output_type": "stream",
     "text": [
      "Solution Day 2 Part 1:  2348\n",
      "Solution Day 2 Part 2:  76008\n"
     ]
    }
   ],
   "source": [
    "green_max= 13\n",
    "red_max = 12\n",
    "blue_max = 14\n",
    "\n",
    "\n",
    "blue_lst = []\n",
    "red_lst = []\n",
    "green_lst = []\n",
    "\n",
    "good_games = 0\n",
    "overall_power = 0\n",
    "\n",
    "for game_id, game in enumerate(data02[1]):\n",
    "    \n",
    "    blue = 0\n",
    "    red = 0\n",
    "    green = 0\n",
    "    \n",
    "    set_lst = game.split(';')\n",
    "    \n",
    "    for game_set in set_lst:\n",
    "        draws = game_set.split(',')\n",
    "        \n",
    "        for draw in draws:\n",
    "            split_draw = draw.strip().split(' ')\n",
    "            color = split_draw[1]\n",
    "            no = int(split_draw[0])\n",
    "            \n",
    "            if color == 'blue' and blue < no:\n",
    "                blue = no\n",
    "            elif color == 'red' and red < no:\n",
    "                red = no\n",
    "            elif color == 'green' and green < no:\n",
    "                green = no\n",
    "    \n",
    "    #print('green = ', green, ', blue = ', blue, ' red = ', red)\n",
    "    power = green*blue*red\n",
    "    \n",
    "    overall_power += power\n",
    "    \n",
    "    if green <= green_max and red <= red_max and blue <= blue_max:\n",
    "        #print('Good Game', game_id)\n",
    "        good_games += game_id+1\n",
    "    \n",
    "print('Solution Day 2 Part 1: ', good_games)\n",
    "print('Solution Day 2 Part 2: ', overall_power)"
   ]
  },
  {
   "cell_type": "code",
   "execution_count": null,
   "id": "26e18eac",
   "metadata": {},
   "outputs": [],
   "source": []
  }
 ],
 "metadata": {
  "kernelspec": {
   "display_name": "Python 3 (ipykernel)",
   "language": "python",
   "name": "python3"
  },
  "language_info": {
   "codemirror_mode": {
    "name": "ipython",
    "version": 3
   },
   "file_extension": ".py",
   "mimetype": "text/x-python",
   "name": "python",
   "nbconvert_exporter": "python",
   "pygments_lexer": "ipython3",
   "version": "3.9.12"
  }
 },
 "nbformat": 4,
 "nbformat_minor": 5
}
